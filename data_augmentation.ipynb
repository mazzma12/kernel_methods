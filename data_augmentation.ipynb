{
 "cells": [
  {
   "cell_type": "markdown",
   "metadata": {},
   "source": [
    "Performs data augmentation by mirroring (flipping), shifting (left, right, d, t), differentiating (right, down)"
   ]
  },
  {
   "cell_type": "code",
   "execution_count": 92,
   "metadata": {
    "collapsed": false
   },
   "outputs": [],
   "source": [
    "import numpy as np\n",
    "import pandas as pd\n",
    "import scipy\n",
    "from numpy import linalg\n",
    "import cvxopt\n",
    "from cvxopt import solvers, matrix\n",
    "from scipy.spatial.distance import pdist, cdist, squareform\n",
    "\n",
    "import matplotlib.pyplot as plt\n",
    "%matplotlib inline\n",
    "from PIL import Image\n"
   ]
  },
  {
   "cell_type": "code",
   "execution_count": 93,
   "metadata": {
    "collapsed": false
   },
   "outputs": [
    {
     "name": "stdout",
     "output_type": "stream",
     "text": [
      "CPU times: user 4.69 s, sys: 108 ms, total: 4.8 s\n",
      "Wall time: 4.8 s\n"
     ]
    }
   ],
   "source": [
    "%%time\n",
    "df_X_train = pd.read_csv('Xtr.csv', header=None, usecols=np.arange(3072))\n",
    "df_X_test = pd.read_csv('Xte.csv', header=None, usecols=np.arange(3072))\n",
    "df_y_train = pd.read_csv('Ytr.csv')\n",
    "\n",
    "\n",
    "X_train = np.array(df_X_train, dtype=float)\n",
    "X_test = np.array(df_X_test, dtype=float)\n",
    "y_train = np.array(df_y_train['Prediction'], dtype=float)"
   ]
  },
  {
   "cell_type": "code",
   "execution_count": 94,
   "metadata": {
    "collapsed": false
   },
   "outputs": [
    {
     "name": "stdout",
     "output_type": "stream",
     "text": [
      "0.0 0.1\n",
      "1.0 0.1\n",
      "2.0 0.1\n",
      "3.0 0.1\n",
      "4.0 0.1\n",
      "5.0 0.1\n",
      "6.0 0.1\n",
      "7.0 0.1\n",
      "8.0 0.1\n",
      "9.0 0.1\n"
     ]
    }
   ],
   "source": [
    "# Data Visualization : The Data set train is balance, OVA can be implemented\n",
    "classes = np.unique(y_train)\n",
    "for class_ in classes:\n",
    "    print(class_, np.mean(class_ == y_train))"
   ]
  },
  {
   "cell_type": "code",
   "execution_count": 95,
   "metadata": {
    "collapsed": true
   },
   "outputs": [],
   "source": [
    "def rgb2gray(rgb, reshape = True):\n",
    "    r = rgb[:1024].reshape(-1,1)\n",
    "    g = rgb[1024:2048].reshape(-1,1)\n",
    "    b = rgb[2048:].reshape(-1,1)\n",
    "    colors = np.c_[r, g, b]\n",
    "    gray = np.dot(colors, [0.299, 0.587, 0.114])\n",
    "    # from matlab 0.2989 * R + 0.5870 * G + 0.1140 * B\n",
    "    if reshape is True:\n",
    "        gray = gray.reshape(32,32)\n",
    "    return gray\n",
    "    #return np.dot(rgb[...,:3], [0.299, 0.587, 0.114])\n"
   ]
  },
  {
   "cell_type": "code",
   "execution_count": 96,
   "metadata": {
    "collapsed": true
   },
   "outputs": [],
   "source": [
    "def plot(X, gray=True, lim=True):\n",
    "    # lim : set a limit number not to crash\n",
    "    n, p = X.shape\n",
    "    for kk in range(n):\n",
    "        if kk>12:\n",
    "            break\n",
    "        x = X[kk]\n",
    "        im = rgb2gray(x)\n",
    "        plt.imshow(im, cmap='gray')\n",
    "        plt.show()"
   ]
  },
  {
   "cell_type": "markdown",
   "metadata": {},
   "source": [
    "### Data augmentation\n",
    "\n",
    "* We perform 4 rot90 and transpose every time so it will lead to 20K images"
   ]
  },
  {
   "cell_type": "code",
   "execution_count": 97,
   "metadata": {
    "collapsed": false
   },
   "outputs": [],
   "source": [
    "def flipping(X, y):\n",
    "    # Augmentation by flipping (transpose)\n",
    "    n, p = X.shape\n",
    "    X_res = np.zeros((n, p)) # FLipped images are assigned here\n",
    "    X_r = X[:,:1024]\n",
    "    X_g = X[:,1024:2048]\n",
    "    X_b = X[:,2048:]\n",
    "    \n",
    "    for kk in range(n):\n",
    "        x_r = np.rot90(np.transpose(X_r[kk].reshape(32,32)), k=3).ravel()\n",
    "        x_g = np.rot90(np.transpose(X_b[kk].reshape(32,32)), k=3).ravel()\n",
    "        x_b = np.rot90(np.transpose(X_g[kk].reshape(32,32)), k=3).ravel()\n",
    "        new_sample = np.r_[x_r, x_g, x_b].reshape(1,-1)\n",
    "        X_res[kk] = new_sample\n",
    "    \n",
    "    return np.r_[X_train, X_res], y"
   ]
  },
  {
   "cell_type": "code",
   "execution_count": 98,
   "metadata": {
    "collapsed": true
   },
   "outputs": [],
   "source": [
    "def shift_right(X):\n",
    "    n, p = X.shape\n",
    "    \n",
    "    X_r = X[:,:1024].reshape(n, 32, 32)\n",
    "    X_g = X[:,1024:2048].reshape(n, 32, 32)\n",
    "    X_b = X[:,2048:].reshape(n, 32, 32)    \n",
    "    shifted = np.zeros_like(X) # Will contain the shifted RGB\n",
    "    colors = [X_r, X_g, X_b]\n",
    "    for kk, col in enumerate(colors):\n",
    "        temp = col[:,:,0]\n",
    "        shifted_col = np.roll(col, axis=2, shift=1)\n",
    "        shifted_col[:,:,0]= temp\n",
    "        shifted_col = shifted_col.reshape(n,-1)\n",
    "\n",
    "        shifted[:, 1024*kk:1024*(kk+1)] = shifted_col\n",
    "    \n",
    "    return shifted\n",
    "\n",
    "def shift_left(X):\n",
    "    n, p = X.shape\n",
    "    \n",
    "    X_r = X[:,:1024].reshape(n, 32, 32)\n",
    "    X_g = X[:,1024:2048].reshape(n, 32, 32)\n",
    "    X_b = X[:,2048:].reshape(n, 32, 32)    \n",
    "    shifted = np.zeros_like(X) # Will contain the shifted RGB\n",
    "    colors = [X_r, X_g, X_b]\n",
    "    for kk, col in enumerate(colors):\n",
    "        temp = col[:,:,-1]\n",
    "        shifted_col = np.roll(col, axis=2, shift=-1)\n",
    "        shifted_col[:,:,-1]= temp\n",
    "        shifted_col = shifted_col.reshape(n,-1)\n",
    "\n",
    "        shifted[:, 1024*kk:1024*(kk+1)] = shifted_col\n",
    "    \n",
    "    return shifted\n",
    "\n",
    "def shift_top(X):\n",
    "    n, p = X.shape\n",
    "    \n",
    "    X_r = X[:,:1024].reshape(n, 32, 32)\n",
    "    X_g = X[:,1024:2048].reshape(n, 32, 32)\n",
    "    X_b = X[:,2048:].reshape(n, 32, 32)    \n",
    "    shifted = np.zeros_like(X) # Will contain the shifted RGB\n",
    "    colors = [X_r, X_g, X_b]\n",
    "    for kk, col in enumerate(colors):\n",
    "        temp = col[:,-1,:]\n",
    "        shifted_col = np.roll(col, axis=1, shift=-1)\n",
    "        shifted_col[:,-1,:]= temp\n",
    "        shifted_col = shifted_col.reshape(n,-1)\n",
    "\n",
    "        shifted[:, 1024*kk:1024*(kk+1)] = shifted_col\n",
    "    \n",
    "    return shifted\n",
    "\n",
    "def shift_down(X):\n",
    "    n, p = X.shape\n",
    "    \n",
    "    X_r = X[:,:1024].reshape(n, 32, 32)\n",
    "    X_g = X[:,1024:2048].reshape(n, 32, 32)\n",
    "    X_b = X[:,2048:].reshape(n, 32, 32)    \n",
    "    shifted = np.zeros_like(X) # Will contain the shifted RGB\n",
    "    colors = [X_r, X_g, X_b]\n",
    "    for kk, col in enumerate(colors):\n",
    "        temp = col[:,0,:]\n",
    "        shifted_col = np.roll(col, axis=1, shift=1)\n",
    "        shifted_col[:,0,:]= temp\n",
    "        shifted_col = shifted_col.reshape(n,-1)\n",
    "\n",
    "        shifted[:, 1024*kk:1024*(kk+1)] = shifted_col\n",
    "    \n",
    "    return shifted"
   ]
  },
  {
   "cell_type": "code",
   "execution_count": 99,
   "metadata": {
    "collapsed": true
   },
   "outputs": [],
   "source": [
    "def differentiate_right(X):\n",
    "    \n",
    "    n, p = X.shape\n",
    "    \n",
    "    X_r = X[:,:1024].reshape(n, 32, 32)\n",
    "    X_g = X[:,1024:2048].reshape(n, 32, 32)\n",
    "    X_b = X[:,2048:].reshape(n, 32, 32)    \n",
    "    diff = np.zeros_like(X) # Will contain the differentiate RGB\n",
    "    colors = [X_r, X_g, X_b]\n",
    "    for kk, col in enumerate(colors):\n",
    "        diff_col = np.zeros_like(col)\n",
    "        temp = col[:,:,0]\n",
    "        diff_col[:,:,1:] = np.diff(col, axis=2) #np.roll(col, axis=2, shift=1)\n",
    "        diff_col[:,:,0]= temp\n",
    "        diff_col = diff_col.reshape(n,-1)\n",
    "        diff[:, 1024*kk:1024*(kk+1)] = diff_col\n",
    "    \n",
    "    return diff"
   ]
  },
  {
   "cell_type": "code",
   "execution_count": 100,
   "metadata": {
    "collapsed": true
   },
   "outputs": [],
   "source": [
    "def differentiate_down(X):\n",
    "    \n",
    "    n, p = X.shape\n",
    "    \n",
    "    X_r = X[:,:1024].reshape(n, 32, 32)\n",
    "    X_g = X[:,1024:2048].reshape(n, 32, 32)\n",
    "    X_b = X[:,2048:].reshape(n, 32, 32)    \n",
    "    diff = np.zeros_like(X) # Will contain the differentiate RGB\n",
    "    colors = [X_r, X_g, X_b]\n",
    "    for kk, col in enumerate(colors):\n",
    "        diff_col = np.zeros_like(col)\n",
    "        temp = col[:,0,]\n",
    "        diff_col[:,1:,:] = np.diff(col, axis=1) #np.roll(col, axis=2, shift=1)\n",
    "        diff_col[:,0,:]= temp\n",
    "        diff_col = diff_col.reshape(n,-1)\n",
    "        diff[:, 1024*kk:1024*(kk+1)] = diff_col\n",
    "    \n",
    "    return diff"
   ]
  },
  {
   "cell_type": "code",
   "execution_count": 101,
   "metadata": {
    "collapsed": false
   },
   "outputs": [],
   "source": [
    "diff_right = differentiate_right(X_train)\n",
    "diff_down = differentiate_down(X_train)"
   ]
  },
  {
   "cell_type": "code",
   "execution_count": 102,
   "metadata": {
    "collapsed": false
   },
   "outputs": [],
   "source": [
    "r_shifted = shift_right(X_train)\n",
    "l_shifted = shift_left(X_train)\n",
    "t_shifted = shift_top(X_train)\n",
    "d_shifted = shift_down(X_train)"
   ]
  },
  {
   "cell_type": "code",
   "execution_count": 103,
   "metadata": {
    "collapsed": false
   },
   "outputs": [],
   "source": [
    "X_res = np.r_[diff_right, diff_down, r_shifted, l_shifted, t_shifted, d_shifted]\n",
    "y_res = np.tile(y_train, 6)"
   ]
  },
  {
   "cell_type": "code",
   "execution_count": null,
   "metadata": {
    "collapsed": true
   },
   "outputs": [],
   "source": [
    "# Saving the results \n",
    "np.save('X_train_rgb', X_res)\n",
    "np.save('y_train_rgb', y_res)"
   ]
  }
 ],
 "metadata": {
  "anaconda-cloud": {},
  "kernelspec": {
   "display_name": "Python [conda root]",
   "language": "python",
   "name": "conda-root-py"
  },
  "language_info": {
   "codemirror_mode": {
    "name": "ipython",
    "version": 3
   },
   "file_extension": ".py",
   "mimetype": "text/x-python",
   "name": "python",
   "nbconvert_exporter": "python",
   "pygments_lexer": "ipython3",
   "version": "3.5.2"
  }
 },
 "nbformat": 4,
 "nbformat_minor": 1
}
