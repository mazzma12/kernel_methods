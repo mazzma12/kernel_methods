{
 "cells": [
  {
   "cell_type": "code",
   "execution_count": 25,
   "metadata": {
    "collapsed": false
   },
   "outputs": [],
   "source": [
    "# Scientific libraries\n",
    "import numpy as np\n",
    "import pandas as pd\n",
    "from numpy import linalg\n",
    "from numpy import random\n",
    "import scipy\n",
    "from scipy.spatial.distance import pdist, cdist, squareform\n",
    "from scipy.stats import mode\n",
    "\n",
    "# cvxopt QP solver\n",
    "import cvxopt\n",
    "from cvxopt import solvers, matrix\n",
    "solvers.options['show_progress'] = False # Verbose quite\n",
    "\n",
    "from itertools import product\n",
    "\n",
    "\n",
    "import matplotlib.pyplot as plt\n",
    "%matplotlib inline\n",
    "\n",
    "\n",
    "# Import data_augmentation and SVM class\n",
    "import sys\n",
    "sys.path.append('src')\n",
    "\n",
    "from data_augmentation import *\n",
    "from SVM import *\n"
   ]
  },
  {
   "cell_type": "code",
   "execution_count": 21,
   "metadata": {
    "collapsed": true
   },
   "outputs": [],
   "source": [
    "def submit_solution(y_pred):\n",
    "    # Built the Yte.csv file for submission\n",
    "    df = pd.DataFrame()\n",
    "    df['Id'] = np.arange(1, y_pred.shape[0]+1)\n",
    "    df['Prediction'] = y_pred.astype(int)\n",
    "    df.to_csv('Yte.csv', index=False)"
   ]
  },
  {
   "cell_type": "code",
   "execution_count": 2,
   "metadata": {
    "collapsed": true
   },
   "outputs": [],
   "source": [
    "# Loading the Data\n",
    "df_X_train = pd.read_csv('data/Xtr.csv', header=None, usecols=np.arange(3072))\n",
    "df_X_test = pd.read_csv('data/Xte.csv', header=None, usecols=np.arange(3072))\n",
    "df_y_train = pd.read_csv('data/Ytr.csv')\n"
   ]
  },
  {
   "cell_type": "code",
   "execution_count": 3,
   "metadata": {
    "collapsed": true
   },
   "outputs": [],
   "source": [
    "# Splitting train, val, test \n",
    "\n",
    "n_train = 4500\n",
    "n_val = 500\n",
    "\n",
    "X_train = np.array(df_X_train, dtype=float)[:n_train]\n",
    "y_train = np.array(df_y_train['Prediction'], dtype=float)[:n_train]\n",
    "X_val = np.array(df_X_train, dtype=float)[-n_val:]\n",
    "y_val = np.array(df_y_train['Prediction'], dtype=float)[-n_val:]\n",
    "X_test = np.array(df_X_test, dtype=float)"
   ]
  },
  {
   "cell_type": "code",
   "execution_count": null,
   "metadata": {
    "collapsed": true
   },
   "outputs": [],
   "source": [
    "# calling data_augmentation.py to flip images\n",
    "\n",
    "X_train_flip = flip_lr(X_train)\n",
    "X_val_flip = flip_lr(X_val)\n",
    "X_test_flip = flip_lr(X_test)"
   ]
  },
  {
   "cell_type": "code",
   "execution_count": null,
   "metadata": {
    "collapsed": true
   },
   "outputs": [],
   "source": [
    "# Data Preprocessing\n",
    "\n",
    "# HOG transform with 12 bins, window size 8 and step size 2 (might take 20 min)\n",
    "hog_train = histogram_of_gradients(X_train, 12, 8, 2)\n",
    "hog_val = histogram_of_gradients(X_val, 12, 8, 2)\n",
    "hog_test = histogram_of_gradients(X_test, 12, 8, 2)\n",
    "\n",
    "# Also on flipped images\n",
    "hog_train_flip = histogram_of_gradients(X_train_flip, 12, 8, 2)\n",
    "hog_val_flip = histogram_of_gradients(X_val_flip, 12, 8, 2)\n",
    "hog_test_flip = histogram_of_gradients(X_test_flip, 12, 8, 2)"
   ]
  },
  {
   "cell_type": "code",
   "execution_count": 4,
   "metadata": {
    "collapsed": true
   },
   "outputs": [],
   "source": [
    "# Or loading directly from existing files\n",
    "hog_train = np.load('hog12_train.npy')\n",
    "hog_val = np.load('hog12_val.npy')\n",
    "hog_test = np.load('hog12_test.npy')\n",
    "hog_train_flip = np.load('hog12_train_flip.npy')\n",
    "hog_val_flip = np.load('hog12_val_flip.npy')\n",
    "hog_test_flip = np.load('hog12_test_flip.npy')"
   ]
  },
  {
   "cell_type": "code",
   "execution_count": 27,
   "metadata": {
    "collapsed": false
   },
   "outputs": [
    {
     "name": "stdout",
     "output_type": "stream",
     "text": [
      "rbf choosen\n",
      "CPU times: user 59.2 s, sys: 88 ms, total: 59.3 s\n",
      "Wall time: 52.2 s\n"
     ]
    }
   ],
   "source": [
    "%%time\n",
    "# training a model with our tuned parameters OVA mode might take 5 min\n",
    "param = {'C' : 4,\n",
    "          'kernel' : 'rbf',\n",
    "         'gamma' : 0.008,\n",
    "          'loss' : 'hinge',\n",
    "          'mode' : 'OVA'\n",
    "         }\n",
    "svm = SVM(**param)\n",
    "svm.fit(hog_train, y_train)"
   ]
  },
  {
   "cell_type": "code",
   "execution_count": 28,
   "metadata": {
    "collapsed": false
   },
   "outputs": [
    {
     "name": "stdout",
     "output_type": "stream",
     "text": [
      "Accuracy:  0.61\n"
     ]
    }
   ],
   "source": [
    "# validation and accuracy\n",
    "pred = svm.predict(hog_val)\n",
    "accuracy = np.mean(pred == y_val)\n",
    "print('Accuracy: ', accuracy)"
   ]
  },
  {
   "cell_type": "code",
   "execution_count": null,
   "metadata": {
    "collapsed": true
   },
   "outputs": [],
   "source": [
    "# prediction on the test set and saving the Yte.csv file\n",
    "test_pred = svm.predict(hog_test)\n",
    "submit_solution(hog_test)\n"
   ]
  },
  {
   "cell_type": "code",
   "execution_count": 24,
   "metadata": {
    "collapsed": true
   },
   "outputs": [],
   "source": [
    "# For information hyperparameters were tuned using this function from SVM.py\n",
    "\n",
    "def tune_parameters(X, y, X_val, y_val, param_grid, n_train, X_test = None, verbose = True):\n",
    "    \"\"\"X : array which would be split in train and val set according to n_train\n",
    "    n_train : number of train samples. Integer or percentage\n",
    "    param_grid : dict containing list of parameters to be tested\n",
    "    IMPORTANT : param_grid values have to be a list. ex : not 'hinge' but ['hinge']\n",
    "    IMPORTANT 2 : X_val has to be set beforehand, because if we split randomly and that a flip image \n",
    "    arrive in the validation set, the accuracy would be anormaly high\n",
    "    \"\"\"\n",
    "    \n",
    "    n_total = X.shape[0]\n",
    "    if n_total != y.shape[0]:\n",
    "        raise Exception('X and y have different size')\n",
    "    \n",
    "    \n",
    "    # Storing results\n",
    "    scores = {}\n",
    "    preds = {}\n",
    "    preds_test = {}\n",
    "    estimators = {}\n",
    "    param_grid = [param_grid]\n",
    "    for param in param_grid:\n",
    "        # sort the keys of a dictionary, for reproducibility\n",
    "        items = sorted(param.items())\n",
    "        keys, values = zip(*items)\n",
    "        for v in product(*values):\n",
    "            params = dict(zip(keys, v))\n",
    "            # Parameters are ready for fitting the model            \n",
    "            svm = SVM2(**params)\n",
    "            \n",
    "            # Checking if n_train is percentage or integer\n",
    "            if n_train <= 1:\n",
    "                idx_train = random.choice(np.arange(n_total), int(n_train*n_total), replace=False)\n",
    "            else :\n",
    "                idx_train = random.choice(np.arange(n_total), n_train, replace=False)\n",
    "               \n",
    "            #idx_val = list(set(np.arange(n_total)) - set(idx_train))\n",
    "            # n_val max is set to 2000\n",
    "            \"\"\"if len(idx_val) > 2000:\n",
    "                idx_val = idx_val[:2000]\n",
    "            \"\"\"\n",
    "            # Fitting and storing results\n",
    "            svm.fit(X[idx_train], y[idx_train])\n",
    "            pred = svm.predict(X_val)\n",
    "            estimators[str(params)] = svm.alphas_\n",
    "            preds[str(params)] = pred\n",
    "            score = np.mean(pred == y_val)                \n",
    "            scores[str(params)]= score\n",
    "            \n",
    "            if X_test is not None:\n",
    "                    pred_test = svm.predict(X_test)\n",
    "                    preds_test[str(params)] = pred_test\n",
    "            \n",
    "            if verbose is True:\n",
    "                print(params)\n",
    "                print('SCORE : ', score)\n",
    "    \n",
    "    return {'scores' : scores, 'preds' : preds, 'estimators' : estimators, 'preds_test' : preds_test}"
   ]
  },
  {
   "cell_type": "code",
   "execution_count": null,
   "metadata": {
    "collapsed": true
   },
   "outputs": [],
   "source": []
  }
 ],
 "metadata": {
  "anaconda-cloud": {},
  "kernelspec": {
   "display_name": "Python [conda root]",
   "language": "python",
   "name": "conda-root-py"
  },
  "language_info": {
   "codemirror_mode": {
    "name": "ipython",
    "version": 3
   },
   "file_extension": ".py",
   "mimetype": "text/x-python",
   "name": "python",
   "nbconvert_exporter": "python",
   "pygments_lexer": "ipython3",
   "version": "3.5.2"
  }
 },
 "nbformat": 4,
 "nbformat_minor": 1
}
