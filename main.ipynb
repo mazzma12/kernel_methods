{
 "cells": [
  {
   "cell_type": "code",
   "execution_count": 2,
   "metadata": {
    "collapsed": false
   },
   "outputs": [],
   "source": [
    "# Scientific libraries\n",
    "import numpy as np\n",
    "import pandas as pd\n",
    "from numpy import linalg\n",
    "from numpy import random\n",
    "import scipy\n",
    "from scipy.spatial.distance import pdist, cdist, squareform\n",
    "from scipy.stats import mode\n",
    "\n",
    "# cvxopt QP solver\n",
    "import cvxopt\n",
    "from cvxopt import solvers, matrix\n",
    "solvers.options['show_progress'] = False # Verbose quite\n",
    "\n",
    "from itertools import product\n",
    "\n",
    "\n",
    "import matplotlib.pyplot as plt\n",
    "from matplotlib.colors import hsv_to_rgb\n",
    "%matplotlib inline\n",
    "from PIL import Image\n",
    "\n",
    "\n",
    "# Import data_augmentation and SVM class\n",
    "import sys\n",
    "sys.path.append('src')\n",
    "\n",
    "from data_augmentation import *\n",
    "from SVM import *\n"
   ]
  },
  {
   "cell_type": "code",
   "execution_count": null,
   "metadata": {
    "collapsed": true
   },
   "outputs": [],
   "source": [
    "# Loading the Data\n",
    "df_X_train = pd.read_csv('data/Xtr.csv', header=None, usecols=np.arange(3072))\n",
    "df_X_test = pd.read_csv('data/Xte.csv', header=None, usecols=np.arange(3072))\n",
    "df_y_train = pd.read_csv('data/Ytr.csv')\n"
   ]
  },
  {
   "cell_type": "code",
   "execution_count": null,
   "metadata": {
    "collapsed": true
   },
   "outputs": [],
   "source": [
    "# Splitting train, val, test \n",
    "\n",
    "n_train = 4500\n",
    "n_val = 500\n",
    "\n",
    "X_train = np.array(df_X_train, dtype=float)[:n_train]\n",
    "y_train = np.array(df_y_train['Prediction'], dtype=float)[:n_train]\n",
    "X_val = np.array(df_X_train, dtype=float)[-n_val:]\n",
    "y_val = np.array(df_y_train['Prediction'], dtype=float)[-n_val:]\n",
    "X_test = np.array(df_X_test, dtype=float)"
   ]
  },
  {
   "cell_type": "code",
   "execution_count": null,
   "metadata": {
    "collapsed": true
   },
   "outputs": [],
   "source": [
    "# calling data_augmentation.py to flip images\n",
    "\n",
    "X_train_flip = flip_lr(X_train)\n",
    "X_val_flip = flip_lr(X_val)\n",
    "X_test_flip = flip_lr(X_test)"
   ]
  },
  {
   "cell_type": "code",
   "execution_count": null,
   "metadata": {
    "collapsed": true
   },
   "outputs": [],
   "source": [
    "# Data Preprocessing\n",
    "\n",
    "# HOG transform with 12 bins, window size 8 and step size 2 (might take 20 min)\n",
    "hog_train = histogram_of_gradients(X_train, 12, 8, 2)\n",
    "hog_val = histogram_of_gradients(X_val, 12, 8, 2)\n",
    "hog_test = histogram_of_gradients(X_test, 12, 8, 2)\n",
    "\n",
    "# Also on flipped images\n",
    "hog_train_flip = histogram_of_gradients(X_train_flip, 12, 8, 2)\n",
    "hog_val_flip = histogram_of_gradients(X_val_flip, 12, 8, 2)\n",
    "hog_test_flip = histogram_of_gradients(X_test_flip, 12, 8, 2)"
   ]
  },
  {
   "cell_type": "code",
   "execution_count": null,
   "metadata": {
    "collapsed": true
   },
   "outputs": [],
   "source": [
    "# training a model\n",
    "param = {'C' : 4,\n",
    "          'kernel' : 'rbf',\n",
    "         'gamma' : 0.008,\n",
    "          'loss' : 'hinge',\n",
    "          'mode' : 'OVA'\n",
    "         }\n",
    "svm = SVM(**param)\n",
    "svm.fit(np.r_[hog_train, hog_train_flip], np.tile(y_train, 2))"
   ]
  },
  {
   "cell_type": "code",
   "execution_count": null,
   "metadata": {
    "collapsed": true
   },
   "outputs": [],
   "source": [
    "# validation and accuracy\n",
    "pred = svm.predict(hog_val)\n",
    "accuracy = np.mean(pred == y_val)\n",
    "print('Accuracy : ', accuracy)"
   ]
  },
  {
   "cell_type": "code",
   "execution_count": null,
   "metadata": {
    "collapsed": true
   },
   "outputs": [],
   "source": [
    "# prediction\n",
    "test_pred = svm.predict(hog_test)\n",
    "submit_solution(hog_test)\n"
   ]
  },
  {
   "cell_type": "code",
   "execution_count": 7,
   "metadata": {
    "collapsed": false
   },
   "outputs": [],
   "source": [
    "param1 = {'C' : 4,\n",
    "          'kernel' : 'rbf',\n",
    "         'gamma' : 0.008,\n",
    "          'loss' : 'hinge',\n",
    "          'mode' : 'OVA'\n",
    "         }\n",
    "\n",
    "param3 = {'C' : 1,\n",
    "          'kernel' : 'rbf',\n",
    "         'gamma' : 0.24,\n",
    "          'loss' : 'hinge',\n",
    "          'mode' : 'OVO'\n",
    "         }\n",
    "param2 = {'C' : 0.6,\n",
    "          'c' : 0.15,\n",
    "          'kernel' : 'poly',\n",
    "          'loss' : 'squared_hinge',\n",
    "          'degree' : 4,\n",
    "          'mode' : 'OVO'\n",
    "         }\n",
    "param10 = {'C' : 0.6,\n",
    "          'c' : 0.15,\n",
    "          'kernel' : 'poly',\n",
    "          'loss' : 'squared_hinge',\n",
    "          'degree' : 2,\n",
    "          'mode' : 'OVO'\n",
    "         }\n",
    "\n",
    "\n",
    "param6= {'C' : 1,\n",
    "          'kernel' : 'poly',\n",
    "         'degree' : 5,\n",
    "          'loss' : 'hinge',\n",
    "          'mode' : 'OVA'\n",
    "         }\n",
    "param4 = {'C' : 2,\n",
    "          'kernel' : 'cosine',\n",
    "         'gamma' : 0.0004,\n",
    "         'degree' : 2,\n",
    "          'loss' : 'hinge',\n",
    "          'mode' : 'OVO'\n",
    "         }\n",
    "param5 = {'C' : 2,\n",
    "          'kernel' : 'sigmoid',\n",
    "          'degree' : 2,\n",
    "         'gamma' : 0.0005,\n",
    "          'loss' : 'hinge',\n",
    "          'mode' : 'OVO'\n",
    "         }\n",
    "param7 = {'C' : 10000,\n",
    "          'kernel' : 'poly',\n",
    "          'loss' : 'hinge',\n",
    "         'c' : 0.15,\n",
    "          'mode' : 'OVO'\n",
    "         }\n",
    "          \n",
    "param9 = {'C' : 5,\n",
    "          'kernel' : 'rbf',\n",
    "         'gamma' : 0.000005,\n",
    "          'loss' : 'hinge',\n",
    "          'mode' : 'OVA'\n",
    "         }\n",
    "          \n",
    "                   \n",
    "param8 = {'C' : 10000,\n",
    "          'kernel' : 'poly',\n",
    "          'loss' : 'hinge',\n",
    "         'c' : 0.15,\n",
    "          'degree' : 7,\n",
    "          'mode' : 'OVO'\n",
    "         }"
   ]
  }
 ],
 "metadata": {
  "anaconda-cloud": {},
  "kernelspec": {
   "display_name": "Python [conda root]",
   "language": "python",
   "name": "conda-root-py"
  },
  "language_info": {
   "codemirror_mode": {
    "name": "ipython",
    "version": 3
   },
   "file_extension": ".py",
   "mimetype": "text/x-python",
   "name": "python",
   "nbconvert_exporter": "python",
   "pygments_lexer": "ipython3",
   "version": "3.5.2"
  }
 },
 "nbformat": 4,
 "nbformat_minor": 1
}
